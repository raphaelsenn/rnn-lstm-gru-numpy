{
 "cells": [
  {
   "cell_type": "markdown",
   "id": "a6a414fa",
   "metadata": {},
   "source": [
    "# Basic Recurrent Neural Networks\n",
    "\n",
    "## PyTorch vs. NumPy "
   ]
  },
  {
   "cell_type": "code",
   "execution_count": 1,
   "id": "afd5b19e",
   "metadata": {},
   "outputs": [],
   "source": [
    "import torch\n",
    "import torch.nn as nn\n",
    "from torch.utils.data import DataLoader\n",
    "\n",
    "import torchvision\n",
    "import torchvision.transforms as transform"
   ]
  },
  {
   "cell_type": "code",
   "execution_count": 2,
   "id": "5fbd8818",
   "metadata": {},
   "outputs": [],
   "source": [
    "# set random seed for reproducability\n",
    "seed = 42\n",
    "_ = torch.manual_seed(seed)"
   ]
  },
  {
   "cell_type": "code",
   "execution_count": 3,
   "id": "386bd6b6",
   "metadata": {},
   "outputs": [],
   "source": [
    "# hyperparameters\n",
    "batch_size = 64\n",
    "sequence_length = 28\n",
    "input_size = 28\n",
    "hidden_size = 64\n",
    "num_classes = 10\n",
    "num_epochs = 10\n",
    "learning_rate = 0.01\n",
    "verbose = True"
   ]
  },
  {
   "cell_type": "markdown",
   "id": "1bbabaf5",
   "metadata": {},
   "source": [
    "## Loading the MNIST Dataset\n"
   ]
  },
  {
   "cell_type": "code",
   "execution_count": 4,
   "id": "178d0604",
   "metadata": {},
   "outputs": [],
   "source": [
    "mnist_train  = torchvision.datasets.MNIST(\n",
    "    root='./MNIST/',\n",
    "    train=True,\n",
    "    transform=transform.ToTensor(),\n",
    "    download=True\n",
    ")\n",
    "\n",
    "mnist_test  = torchvision.datasets.MNIST(\n",
    "    root='./MNIST/',\n",
    "    train=False,\n",
    "    transform=transform.ToTensor(),\n",
    "    download=True\n",
    ")\n",
    "\n",
    "dataloader_train = DataLoader(\n",
    "    dataset=mnist_train,\n",
    "    batch_size=batch_size,\n",
    "    shuffle=True)\n",
    "\n",
    "dataloader_test = DataLoader(\n",
    "    dataset=mnist_test,\n",
    "    batch_size=batch_size,\n",
    "    shuffle=True)"
   ]
  },
  {
   "cell_type": "markdown",
   "id": "edde29fb",
   "metadata": {},
   "source": [
    "## Using PyTorch"
   ]
  },
  {
   "cell_type": "markdown",
   "id": "db8229ce",
   "metadata": {},
   "source": [
    "#### Creating the Model"
   ]
  },
  {
   "cell_type": "code",
   "execution_count": 5,
   "id": "a0bf1a1e",
   "metadata": {},
   "outputs": [],
   "source": [
    "class RNN(nn.Module):\n",
    "    def __init__(\n",
    "            self,\n",
    "            input_size: int,\n",
    "            hidden_size: int,\n",
    "            num_classes: int,\n",
    "            sequence_length: int):\n",
    "        super().__init__()\n",
    "\n",
    "        self.hidden_size = hidden_size\n",
    "        self.sequence_length = sequence_length\n",
    "\n",
    "        self.rnn = nn.RNN(\n",
    "            input_size=input_size,\n",
    "            hidden_size=hidden_size,\n",
    "            batch_first=True)\n",
    "\n",
    "        self.fc = nn.Linear(\n",
    "            in_features=hidden_size * sequence_length,\n",
    "            out_features=num_classes,\n",
    "            bias=True)\n",
    "\n",
    "    def forward(self, x: torch.Tensor) -> torch.Tensor:\n",
    "        x, _ = self.rnn(x)\n",
    "        x = x.flatten(start_dim=1)\n",
    "        x = self.fc(x)\n",
    "        return x"
   ]
  },
  {
   "cell_type": "markdown",
   "id": "6aef0a47",
   "metadata": {},
   "source": [
    "#### Training"
   ]
  },
  {
   "cell_type": "code",
   "execution_count": 6,
   "id": "16e1894a",
   "metadata": {},
   "outputs": [
    {
     "name": "stdout",
     "output_type": "stream",
     "text": [
      "epoch: 0\tloss: 0.7420\tacc: 0.8176\n",
      "epoch: 1\tloss: 0.3507\tacc: 0.8980\n",
      "epoch: 2\tloss: 0.2933\tacc: 0.9145\n",
      "epoch: 3\tloss: 0.2541\tacc: 0.9250\n",
      "epoch: 4\tloss: 0.2212\tacc: 0.9342\n",
      "epoch: 5\tloss: 0.1938\tacc: 0.9433\n",
      "epoch: 6\tloss: 0.1728\tacc: 0.9491\n",
      "epoch: 7\tloss: 0.1571\tacc: 0.9541\n",
      "epoch: 8\tloss: 0.1447\tacc: 0.9573\n",
      "epoch: 9\tloss: 0.1347\tacc: 0.9602\n"
     ]
    }
   ],
   "source": [
    "model = RNN(input_size, hidden_size, num_classes, sequence_length)\n",
    "optimizer = torch.optim.SGD(params=model.parameters(), lr=learning_rate)\n",
    "loss_fn = torch.nn.CrossEntropyLoss()\n",
    "\n",
    "\n",
    "N = len(dataloader_train.dataset)\n",
    "for epoch in range(num_epochs):\n",
    "    total_loss = 0\n",
    "    correct = 0\n",
    "    for X, y in dataloader_train:\n",
    "        optimizer.zero_grad() \n",
    "        X = X.squeeze(1)\n",
    "        y_pred = model(X)\n",
    "        loss = loss_fn(y_pred, y)\n",
    "        total_loss += loss.sum().item() * X.size(0)\n",
    "        correct += (torch.argmax(y_pred, dim=1) == y).sum()\n",
    "        loss.backward()\n",
    "        optimizer.step()\n",
    "    if verbose: \n",
    "        total_loss = total_loss / N\n",
    "        acc = correct / N\n",
    "        print(f'epoch: {epoch}\\tloss: {total_loss:.04f}\\tacc: {acc:.04f}')"
   ]
  },
  {
   "cell_type": "markdown",
   "id": "8e42d2a8",
   "metadata": {},
   "source": [
    "#### Evaluation"
   ]
  },
  {
   "cell_type": "code",
   "execution_count": 7,
   "id": "707dbae0",
   "metadata": {},
   "outputs": [
    {
     "name": "stdout",
     "output_type": "stream",
     "text": [
      "Accuracy on test set: 0.9648\n"
     ]
    }
   ],
   "source": [
    "correct = 0\n",
    "N = len(dataloader_test.dataset)\n",
    "with torch.no_grad():\n",
    "    for X, y in dataloader_test:\n",
    "        X = X.squeeze(1) \n",
    "        y_pred = model(X)\n",
    "        correct += (torch.argmax(y_pred, dim=1) == y).sum()\n",
    "acc = correct / N\n",
    "print(f'Accuracy on test set: {acc.item():.04f}')"
   ]
  },
  {
   "cell_type": "markdown",
   "id": "36e993eb",
   "metadata": {},
   "source": [
    "## Using a RNN written in raw NumPy"
   ]
  },
  {
   "cell_type": "code",
   "execution_count": 8,
   "id": "5deb8594",
   "metadata": {},
   "outputs": [],
   "source": [
    "import numpy as np\n",
    "from nn_np.rnn_np import RNN_1FC_ALL"
   ]
  },
  {
   "cell_type": "code",
   "execution_count": 9,
   "id": "7135c196",
   "metadata": {},
   "outputs": [],
   "source": [
    "# set random seed for reproducability\n",
    "seed = 42\n",
    "np.random.seed(seed)"
   ]
  },
  {
   "cell_type": "code",
   "execution_count": 10,
   "id": "47589d4d",
   "metadata": {},
   "outputs": [],
   "source": [
    "# hyperparameters\n",
    "batch_size = 64\n",
    "sequence_length = 28\n",
    "input_size = 28\n",
    "hidden_size = 64\n",
    "num_classes = 10\n",
    "num_epochs = 10\n",
    "learning_rate = 0.001\n",
    "verbose = True"
   ]
  },
  {
   "cell_type": "markdown",
   "id": "e8bb76fe",
   "metadata": {},
   "source": [
    "#### Creating the Model & Training"
   ]
  },
  {
   "cell_type": "code",
   "execution_count": 11,
   "id": "5d1783a5",
   "metadata": {},
   "outputs": [
    {
     "name": "stdout",
     "output_type": "stream",
     "text": [
      "epoch: 0\tloss: 0.5574\tacc: 0.8623\n",
      "epoch: 1\tloss: 0.3615\tacc: 0.9022\n",
      "epoch: 2\tloss: 0.3020\tacc: 0.9170\n",
      "epoch: 3\tloss: 0.2695\tacc: 0.9247\n",
      "epoch: 4\tloss: 0.2478\tacc: 0.9301\n",
      "epoch: 5\tloss: 0.2313\tacc: 0.9338\n",
      "epoch: 6\tloss: 0.2190\tacc: 0.9376\n",
      "epoch: 7\tloss: 0.2087\tacc: 0.9402\n",
      "epoch: 8\tloss: 0.1997\tacc: 0.9425\n",
      "epoch: 9\tloss: 0.1923\tacc: 0.9453\n"
     ]
    }
   ],
   "source": [
    "rnn = RNN_1FC_ALL(input_size, hidden_size, sequence_length, num_classes)\n",
    "\n",
    "# reusing torch dataset :D\n",
    "X_train = mnist_train.data.data.numpy()\n",
    "Y_train = mnist_train.targets.data.numpy()\n",
    "rnn.fit(\n",
    "    X_train=X_train,\n",
    "    y_train=Y_train,\n",
    "    epochs=num_epochs,\n",
    "    learning_rate=learning_rate,\n",
    "    batch_size=batch_size,\n",
    "    verbose=True)"
   ]
  },
  {
   "cell_type": "markdown",
   "id": "1c651690",
   "metadata": {},
   "source": [
    "#### Evaluation"
   ]
  },
  {
   "cell_type": "code",
   "execution_count": 12,
   "id": "aa947ab7",
   "metadata": {},
   "outputs": [
    {
     "name": "stdout",
     "output_type": "stream",
     "text": [
      "Accuracy on test set: 0.9421\n"
     ]
    }
   ],
   "source": [
    "X_test = mnist_test.data.data.numpy()\n",
    "Y_test = mnist_test.targets.data.numpy()\n",
    "N = X_test.shape[0]\n",
    "\n",
    "# calculating cross-entropy loss\n",
    "y_pred = rnn.forward(X_test)\n",
    "loss = -sum(np.log(y_pred[np.arange(N), Y_test])) / N\n",
    "\n",
    "# calculating accuracy\n",
    "acc = (np.argmax(y_pred, axis=1) == Y_test).sum() / N\n",
    "\n",
    "print(f'Accuracy on test set: {acc:.04f}')"
   ]
  }
 ],
 "metadata": {
  "kernelspec": {
   "display_name": ".venv",
   "language": "python",
   "name": "python3"
  },
  "language_info": {
   "codemirror_mode": {
    "name": "ipython",
    "version": 3
   },
   "file_extension": ".py",
   "mimetype": "text/x-python",
   "name": "python",
   "nbconvert_exporter": "python",
   "pygments_lexer": "ipython3",
   "version": "3.13.3"
  }
 },
 "nbformat": 4,
 "nbformat_minor": 5
}
