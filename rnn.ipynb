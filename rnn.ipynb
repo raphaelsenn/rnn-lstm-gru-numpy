{
 "cells": [
  {
   "cell_type": "markdown",
   "id": "a6a414fa",
   "metadata": {},
   "source": [
    "# Basic Recurrent Neural Networks\n",
    "\n",
    "## PyTorch vs. NumPy "
   ]
  },
  {
   "cell_type": "code",
   "execution_count": 11,
   "id": "afd5b19e",
   "metadata": {},
   "outputs": [],
   "source": [
    "import torch\n",
    "import torch.nn as nn\n",
    "import torch.nn.functional as F\n",
    "from torch.utils.data import DataLoader\n",
    "\n",
    "import torchvision\n",
    "import torchvision.transforms as transform\n",
    "from torchvision.transforms import Compose"
   ]
  },
  {
   "cell_type": "code",
   "execution_count": 12,
   "id": "b650b2cd",
   "metadata": {},
   "outputs": [],
   "source": [
    "_ = torch.manual_seed(42)"
   ]
  },
  {
   "cell_type": "code",
   "execution_count": 13,
   "id": "386bd6b6",
   "metadata": {},
   "outputs": [],
   "source": [
    "# hyperparameters\n",
    "batch_size = 64\n",
    "sequence_length = 28\n",
    "input_size = 28\n",
    "hidden_size = 64\n",
    "num_layers = 1\n",
    "num_classes = 10\n",
    "num_epochs = 10\n",
    "learning_rate = 0.01\n",
    "verbose = True"
   ]
  },
  {
   "cell_type": "markdown",
   "id": "1bbabaf5",
   "metadata": {},
   "source": [
    "## Loading the MNIST Dataset\n"
   ]
  },
  {
   "cell_type": "code",
   "execution_count": 14,
   "id": "178d0604",
   "metadata": {},
   "outputs": [],
   "source": [
    "mnist_train  = torchvision.datasets.MNIST(\n",
    "    root='./MNIST/',\n",
    "    train=True,\n",
    "    transform=transform.ToTensor(),\n",
    "    download=True\n",
    ")\n",
    "\n",
    "mnist_test  = torchvision.datasets.MNIST(\n",
    "    root='./MNIST/',\n",
    "    train=False,\n",
    "    transform=transform.ToTensor(),\n",
    "    download=True\n",
    ")\n",
    "\n",
    "dataloader_train = DataLoader(\n",
    "    dataset=mnist_train,\n",
    "    batch_size=batch_size,\n",
    "    shuffle=False)\n",
    "\n",
    "dataloader_test = DataLoader(\n",
    "    dataset=mnist_test,\n",
    "    batch_size=batch_size,\n",
    "    shuffle=True)"
   ]
  },
  {
   "cell_type": "code",
   "execution_count": 15,
   "id": "b5136e49",
   "metadata": {},
   "outputs": [
    {
     "name": "stdout",
     "output_type": "stream",
     "text": [
      "60000\n"
     ]
    }
   ],
   "source": [
    "print(len(dataloader_train.dataset))"
   ]
  },
  {
   "cell_type": "markdown",
   "id": "edde29fb",
   "metadata": {},
   "source": [
    "## Creating the RNN in PyTorch"
   ]
  },
  {
   "cell_type": "code",
   "execution_count": 16,
   "id": "a0bf1a1e",
   "metadata": {},
   "outputs": [],
   "source": [
    "class RNN(nn.Module):\n",
    "    def __init__(\n",
    "            self,\n",
    "            input_size: int,\n",
    "            hidden_size: int,\n",
    "            num_layers: int,\n",
    "            num_classes: int,\n",
    "            sequence_length: int):\n",
    "        super().__init__()\n",
    "\n",
    "        self.hidden_size = hidden_size\n",
    "        self.sequence_length = sequence_length\n",
    "\n",
    "        self.rnn = nn.RNN(\n",
    "            input_size=input_size,\n",
    "            hidden_size=hidden_size,\n",
    "            num_layers=num_layers,\n",
    "            batch_first=True)\n",
    "\n",
    "        self.fc = nn.Linear(\n",
    "            in_features=hidden_size * sequence_length,\n",
    "            out_features=num_classes,\n",
    "            bias=True)\n",
    "\n",
    "    def forward(self, x: torch.Tensor) -> torch.Tensor:\n",
    "        x, _ = self.rnn(x)\n",
    "        x = x.flatten(start_dim=1)\n",
    "        x = self.fc(x)\n",
    "        return x"
   ]
  },
  {
   "cell_type": "code",
   "execution_count": 17,
   "id": "aaa7dc58",
   "metadata": {},
   "outputs": [
    {
     "name": "stdout",
     "output_type": "stream",
     "text": [
      "torch.Size([64, 1, 28, 28])\n"
     ]
    }
   ],
   "source": [
    "model = RNN(input_size, hidden_size, num_layers, num_classes, sequence_length)\n",
    "x = torch.rand(64, 1, 28, 28)\n",
    "print(x.shape)"
   ]
  },
  {
   "cell_type": "code",
   "execution_count": 18,
   "id": "3d6203cc",
   "metadata": {},
   "outputs": [
    {
     "name": "stdout",
     "output_type": "stream",
     "text": [
      "torch.Size([64, 28, 28])\n",
      "torch.Size([64, 10])\n"
     ]
    }
   ],
   "source": [
    "x = x.view(x.size(0), 28, 28)\n",
    "print(x.shape)\n",
    "\n",
    "y = model(x)\n",
    "print(y.shape)"
   ]
  },
  {
   "cell_type": "code",
   "execution_count": null,
   "id": "16e1894a",
   "metadata": {},
   "outputs": [
    {
     "name": "stdout",
     "output_type": "stream",
     "text": [
      "epoch: 0\tloss: 0.7613\tacc: 0.8180\n",
      "epoch: 1\tloss: 0.3531\tacc: 0.8974\n",
      "epoch: 2\tloss: 0.2999\tacc: 0.9119\n",
      "epoch: 3\tloss: 0.2641\tacc: 0.9219\n",
      "epoch: 4\tloss: 0.2348\tacc: 0.9306\n",
      "epoch: 5\tloss: 0.2097\tacc: 0.9386\n",
      "epoch: 6\tloss: 0.1882\tacc: 0.9446\n",
      "epoch: 7\tloss: 0.1703\tacc: 0.9498\n",
      "epoch: 8\tloss: 0.1555\tacc: 0.9539\n",
      "epoch: 9\tloss: 0.1432\tacc: 0.9578\n"
     ]
    }
   ],
   "source": [
    "model = RNN(input_size, hidden_size, num_layers, num_classes, sequence_length)\n",
    "optimizer = torch.optim.SGD(params=model.parameters(), lr=learning_rate)\n",
    "loss_fn = torch.nn.CrossEntropyLoss()\n",
    "\n",
    "\n",
    "N = len(dataloader_train.dataset)\n",
    "for epoch in range(num_epochs):\n",
    "    total_loss = 0\n",
    "    correct = 0\n",
    "    for X, y in dataloader_train:\n",
    "        optimizer.zero_grad() \n",
    "        X = X.squeeze(1)\n",
    "        y_pred = model(X)\n",
    "        loss = loss_fn(y_pred, y)\n",
    "        total_loss += loss.sum().item() * X.size(0)\n",
    "        correct += (torch.argmax(y_pred, dim=1) == y).sum()\n",
    "        loss.backward()\n",
    "        optimizer.step()\n",
    "    if verbose: \n",
    "        total_loss = total_loss / N\n",
    "        acc = correct / N\n",
    "        print(f'epoch: {epoch}\\tloss: {total_loss:.04f}\\tacc: {acc:.04f}')"
   ]
  },
  {
   "cell_type": "code",
   "execution_count": 23,
   "id": "707dbae0",
   "metadata": {},
   "outputs": [
    {
     "name": "stdout",
     "output_type": "stream",
     "text": [
      "Accuracy on test set: 0.9622\n"
     ]
    }
   ],
   "source": [
    "correct = 0\n",
    "N = len(dataloader_test.dataset)\n",
    "with torch.no_grad():\n",
    "    for X, y in dataloader_test:\n",
    "        X = X.squeeze(1) \n",
    "        y_pred = model(X)\n",
    "        correct += (torch.argmax(y_pred, dim=1) == y).sum()\n",
    "acc = correct / N\n",
    "print(f'Accuracy on test set: {acc.item():.04f}')"
   ]
  }
 ],
 "metadata": {
  "kernelspec": {
   "display_name": ".venv",
   "language": "python",
   "name": "python3"
  },
  "language_info": {
   "codemirror_mode": {
    "name": "ipython",
    "version": 3
   },
   "file_extension": ".py",
   "mimetype": "text/x-python",
   "name": "python",
   "nbconvert_exporter": "python",
   "pygments_lexer": "ipython3",
   "version": "3.13.3"
  }
 },
 "nbformat": 4,
 "nbformat_minor": 5
}
